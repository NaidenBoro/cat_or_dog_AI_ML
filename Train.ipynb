{
 "cells": [
  {
   "cell_type": "code",
   "execution_count": 1,
   "id": "36fe65d8",
   "metadata": {},
   "outputs": [],
   "source": [
    "import numpy as np\n",
    "import matplotlib.pyplot as plt\n",
    "import os\n",
    "import cv2\n",
    "import tensorflow as tf\n",
    "import random\n",
    "from tensorflow.keras.models import Sequential\n",
    "from tensorflow.keras.layers import Dense, Dropout, Activation, Flatten\n",
    "from tensorflow.keras.layers import Conv2D, MaxPooling2D\n",
    "import tensorflow.keras.layers as layers"
   ]
  },
  {
   "cell_type": "code",
   "execution_count": 2,
   "id": "58a38e85",
   "metadata": {},
   "outputs": [],
   "source": [
    "# paths\n",
    "# the folder of photos is not provided, but it can be downloaded from microsoft or keagle\n",
    "dataset = r\"C:\\Users\\ntbor\\Desktop\\Stuff\\Coding\\Python\\catsdogs\\kagglecatsanddogs_3367a\\PetImages\"\n",
    "categor = [\"Dog\",\"Cat\"]"
   ]
  },
  {
   "cell_type": "code",
   "execution_count": 3,
   "id": "72312a13",
   "metadata": {},
   "outputs": [],
   "source": [
    "# size of the input\n",
    "size = 120"
   ]
  },
  {
   "cell_type": "code",
   "execution_count": 4,
   "id": "8e31cce0",
   "metadata": {},
   "outputs": [],
   "source": [
    "training_data = []\n",
    "\n",
    "\n",
    "#creating the data to a readable format\n",
    "def create_td():\n",
    "    for x in categor:\n",
    "        path = os.path.join(dataset, x)\n",
    "        class_num = categor.index(x)\n",
    "        for img in os.listdir(path):\n",
    "            try:\n",
    "                img_array = cv2.imread(os.path.join(path,img),cv2.IMREAD_GRAYSCALE)\n",
    "                new_array = cv2.resize(img_array, (size,size))\n",
    "                training_data.append([new_array, class_num])\n",
    "            except Exception as e:\n",
    "                pass\n",
    "\n",
    "\n",
    "create_td()"
   ]
  },
  {
   "cell_type": "code",
   "execution_count": 5,
   "id": "bff17965",
   "metadata": {},
   "outputs": [],
   "source": [
    "random.shuffle(training_data)"
   ]
  },
  {
   "cell_type": "code",
   "execution_count": 6,
   "id": "530f0149",
   "metadata": {},
   "outputs": [],
   "source": [
    "X = []\n",
    "y = []\n",
    "\n",
    "# creating the inputs and labels\n",
    "for features, label in training_data:\n",
    "    X.append(features)\n",
    "    y.append(label)\n",
    "\n",
    "# reshaping the data to format for a conv2d and normalizing the pixel values\n",
    "X = np.array(X).reshape(-1,size,size,1)\n",
    "X = X/255\n",
    "y = np.array(y)"
   ]
  },
  {
   "cell_type": "code",
   "execution_count": 7,
   "id": "b0e2796f",
   "metadata": {},
   "outputs": [],
   "source": [
    "# creating and compiling the model\n",
    "model = Sequential()\n",
    "\n",
    "model.add(Conv2D(64, (3, 3), input_shape=X.shape[1:]))\n",
    "model.add(Activation(\"relu\"))\n",
    "model.add(MaxPooling2D(pool_size=(2, 2)))\n",
    "model.add(Dropout(0.25))\n",
    "\n",
    "model.add(Conv2D(64, (3, 3), input_shape=X.shape[1:]))\n",
    "model.add(Activation(\"relu\"))\n",
    "model.add(MaxPooling2D(pool_size=(2, 2)))\n",
    "model.add(Dropout(0.25))\n",
    "\n",
    "model.add(Conv2D(64, (3, 3), input_shape=X.shape[1:]))\n",
    "model.add(Activation(\"relu\"))\n",
    "model.add(MaxPooling2D(pool_size=(2, 2)))\n",
    "model.add(Dropout(0.25))\n",
    "\n",
    "model.add(Conv2D(64, (3, 3), input_shape=X.shape[1:]))\n",
    "model.add(Activation(\"relu\"))\n",
    "model.add(MaxPooling2D(pool_size=(2, 2)))\n",
    "model.add(Dropout(0.25))\n",
    "\n",
    "model.add(Conv2D(64, (3, 3), input_shape=X.shape[1:]))\n",
    "model.add(Activation(\"relu\"))\n",
    "model.add(MaxPooling2D(pool_size=(2, 2)))\n",
    "model.add(Dropout(0.25))\n",
    "\n",
    "model.add(Flatten())\n",
    "\n",
    "model.add(Dense(64))\n",
    "\n",
    "model.add(Dense(1))\n",
    "model.add(Activation(\"sigmoid\"))\n",
    "\n",
    "model.compile(loss='binary_crossentropy', optimizer='adam', metrics=['accuracy'])"
   ]
  },
  {
   "cell_type": "code",
   "execution_count": 45,
   "id": "31f9c224",
   "metadata": {},
   "outputs": [
    {
     "name": "stdout",
     "output_type": "stream",
     "text": [
      "Epoch 1/10\n",
      "722/722 [==============================] - 306s 423ms/step - loss: 0.6896 - accuracy: 0.5294 - val_loss: 0.6894 - val_accuracy: 0.5398\n",
      "Epoch 2/10\n",
      "722/722 [==============================] - 282s 391ms/step - loss: 0.6643 - accuracy: 0.5960 - val_loss: 0.6107 - val_accuracy: 0.6574\n",
      "Epoch 3/10\n",
      "722/722 [==============================] - 275s 381ms/step - loss: 0.5702 - accuracy: 0.7086 - val_loss: 0.5385 - val_accuracy: 0.7328\n",
      "Epoch 4/10\n",
      "722/722 [==============================] - 278s 385ms/step - loss: 0.5006 - accuracy: 0.7588 - val_loss: 0.4362 - val_accuracy: 0.7958\n",
      "Epoch 5/10\n",
      "722/722 [==============================] - 285s 394ms/step - loss: 0.4531 - accuracy: 0.7911 - val_loss: 0.4328 - val_accuracy: 0.7894\n",
      "Epoch 6/10\n",
      "722/722 [==============================] - 290s 402ms/step - loss: 0.4256 - accuracy: 0.8076 - val_loss: 0.4005 - val_accuracy: 0.8167\n",
      "Epoch 7/10\n",
      "722/722 [==============================] - 290s 402ms/step - loss: 0.3975 - accuracy: 0.8202 - val_loss: 0.3431 - val_accuracy: 0.8568\n",
      "Epoch 8/10\n",
      "722/722 [==============================] - 293s 406ms/step - loss: 0.3762 - accuracy: 0.8344 - val_loss: 0.3268 - val_accuracy: 0.8600\n",
      "Epoch 9/10\n",
      "722/722 [==============================] - 294s 407ms/step - loss: 0.3587 - accuracy: 0.8434 - val_loss: 0.3046 - val_accuracy: 0.8685\n",
      "Epoch 10/10\n",
      "722/722 [==============================] - 301s 417ms/step - loss: 0.3438 - accuracy: 0.8481 - val_loss: 0.3221 - val_accuracy: 0.8578\n"
     ]
    },
    {
     "data": {
      "text/plain": [
       "<keras.callbacks.History at 0x2484bab3550>"
      ]
     },
     "execution_count": 45,
     "metadata": {},
     "output_type": "execute_result"
    }
   ],
   "source": [
    "# training the model with a validation split\n",
    "model.fit(X,y,batch_size=32,epochs=10,validation_split=0.075) "
   ]
  },
  {
   "cell_type": "code",
   "execution_count": 46,
   "id": "1d68dac0",
   "metadata": {},
   "outputs": [
    {
     "name": "stdout",
     "output_type": "stream",
     "text": [
      "Saved model to disk\n"
     ]
    }
   ],
   "source": [
    "# saving the beta model\n",
    "model.save(\"model.h5\")\n",
    "print(\"Saved model to disk\")"
   ]
  },
  {
   "cell_type": "code",
   "execution_count": 52,
   "id": "faad1f49",
   "metadata": {},
   "outputs": [
    {
     "name": "stdout",
     "output_type": "stream",
     "text": [
      "371/371 [==============================] - 310s 837ms/step - loss: 0.2935 - accuracy: 0.8719 - val_loss: 0.2700 - val_accuracy: 0.8870\n"
     ]
    },
    {
     "data": {
      "text/plain": [
       "<keras.callbacks.History at 0x2484c4c0850>"
      ]
     },
     "execution_count": 52,
     "metadata": {},
     "output_type": "execute_result"
    }
   ],
   "source": [
    "#more training\n",
    "model.fit(X,y,batch_size=64,epochs=1,validation_split=0.05) "
   ]
  },
  {
   "cell_type": "code",
   "execution_count": 49,
   "id": "ff033dfa",
   "metadata": {},
   "outputs": [
    {
     "name": "stdout",
     "output_type": "stream",
     "text": [
      "Saved model to disk\n"
     ]
    }
   ],
   "source": [
    "model.save(\"model_2.0.h5\")\n",
    "print(\"Saved model to disk\")"
   ]
  },
  {
   "cell_type": "code",
   "execution_count": 8,
   "id": "681042bd",
   "metadata": {},
   "outputs": [],
   "source": [
    "#data augmentation\n",
    "data_augmentation = tf.keras.Sequential([\n",
    "  layers.RandomFlip(\"horizontal\"),\n",
    "  layers.RandomRotation(0.2),\n",
    "  layers.RandomZoom(.5, .2)\n",
    "])\n",
    "\n",
    "new_data = data_augmentation(X)"
   ]
  },
  {
   "cell_type": "code",
   "execution_count": 104,
   "id": "4ab96268",
   "metadata": {},
   "outputs": [
    {
     "name": "stdout",
     "output_type": "stream",
     "text": [
      "741/741 [==============================] - 284s 383ms/step - loss: 0.5305 - accuracy: 0.7297 - val_loss: 0.4650 - val_accuracy: 0.7901\n"
     ]
    },
    {
     "data": {
      "text/plain": [
       "<keras.callbacks.History at 0x24847babd00>"
      ]
     },
     "execution_count": 104,
     "metadata": {},
     "output_type": "execute_result"
    }
   ],
   "source": [
    "# more training\n",
    "model.fit(new_data,y,batch_size=32,epochs=1,validation_split=0.05) "
   ]
  },
  {
   "cell_type": "code",
   "execution_count": 109,
   "id": "fa987fd1",
   "metadata": {},
   "outputs": [
    {
     "name": "stdout",
     "output_type": "stream",
     "text": [
      "741/741 [==============================] - 320s 428ms/step - loss: 0.5171 - accuracy: 0.7457 - val_loss: 0.4925 - val_accuracy: 0.7364\n",
      "Saved model to disk\n"
     ]
    }
   ],
   "source": [
    "# more training\n",
    "new_data = data_augmentation(X)\n",
    "model.fit(new_data,y,batch_size=32,epochs=1,validation_split=0.05) \n",
    "model.save(\"model_3.0.h5\")\n",
    "print(\"Saved model to disk\")"
   ]
  },
  {
   "cell_type": "code",
   "execution_count": 110,
   "id": "b6c85864",
   "metadata": {},
   "outputs": [
    {
     "name": "stdout",
     "output_type": "stream",
     "text": [
      "Epoch 1/2\n",
      "702/702 [==============================] - 303s 429ms/step - loss: 0.5101 - accuracy: 0.7470 - val_loss: 0.4603 - val_accuracy: 0.7707\n",
      "Epoch 2/2\n",
      "702/702 [==============================] - 299s 426ms/step - loss: 0.4996 - accuracy: 0.7576 - val_loss: 0.4427 - val_accuracy: 0.7880\n",
      "Epoch 1/2\n",
      "702/702 [==============================] - 296s 422ms/step - loss: 0.4925 - accuracy: 0.7598 - val_loss: 0.4422 - val_accuracy: 0.7884\n",
      "Epoch 2/2\n",
      "702/702 [==============================] - 300s 428ms/step - loss: 0.4827 - accuracy: 0.7669 - val_loss: 0.4538 - val_accuracy: 0.7852\n",
      "Epoch 1/2\n",
      "702/702 [==============================] - 310s 434ms/step - loss: 0.4812 - accuracy: 0.7659 - val_loss: 0.4197 - val_accuracy: 0.8032\n",
      "Epoch 2/2\n",
      "702/702 [==============================] - 271s 387ms/step - loss: 0.4755 - accuracy: 0.7721 - val_loss: 0.4318 - val_accuracy: 0.8104\n",
      "Epoch 1/2\n",
      "702/702 [==============================] - 296s 422ms/step - loss: 0.4714 - accuracy: 0.7731 - val_loss: 0.4404 - val_accuracy: 0.7848\n",
      "Epoch 2/2\n",
      "702/702 [==============================] - 299s 426ms/step - loss: 0.4602 - accuracy: 0.7836 - val_loss: 0.4184 - val_accuracy: 0.8144\n",
      "Saved model to disk\n"
     ]
    }
   ],
   "source": [
    "# more training\n",
    "new_data = data_augmentation(X)\n",
    "model.fit(new_data,y,batch_size=32,epochs=2,validation_split=0.1) \n",
    "new_data = data_augmentation(X)\n",
    "model.fit(new_data,y,batch_size=32,epochs=2,validation_split=0.1) \n",
    "new_data = data_augmentation(X)\n",
    "model.fit(new_data,y,batch_size=32,epochs=2,validation_split=0.1) \n",
    "new_data = data_augmentation(X)\n",
    "model.fit(new_data,y,batch_size=32,epochs=2,validation_split=0.1) \n",
    "model.save(\"model_4.0.h5\")\n",
    "print(\"Saved model to disk\")"
   ]
  },
  {
   "cell_type": "code",
   "execution_count": 112,
   "id": "b1214885",
   "metadata": {},
   "outputs": [
    {
     "name": "stdout",
     "output_type": "stream",
     "text": [
      "722/722 [==============================] - 329s 455ms/step - loss: 0.2900 - accuracy: 0.8747 - val_loss: 0.2556 - val_accuracy: 0.8947\n",
      "Saved model to disk\n"
     ]
    }
   ],
   "source": [
    "# more training\n",
    "model.fit(X,y,batch_size=32,epochs=1,validation_split=0.075) \n",
    "model.save(\"model_5.0.h5\")\n",
    "print(\"Saved model to disk\")"
   ]
  },
  {
   "cell_type": "code",
   "execution_count": 113,
   "id": "e68dd5b1",
   "metadata": {},
   "outputs": [
    {
     "name": "stdout",
     "output_type": "stream",
     "text": [
      "Epoch 1/2\n",
      "702/702 [==============================] - 293s 413ms/step - loss: 0.4712 - accuracy: 0.7740 - val_loss: 0.4090 - val_accuracy: 0.8096\n",
      "Epoch 2/2\n",
      "702/702 [==============================] - 294s 418ms/step - loss: 0.4541 - accuracy: 0.7858 - val_loss: 0.4214 - val_accuracy: 0.7972\n",
      "Epoch 1/2\n",
      "702/702 [==============================] - 307s 437ms/step - loss: 0.4542 - accuracy: 0.7834 - val_loss: 0.3930 - val_accuracy: 0.8224\n",
      "Epoch 2/2\n",
      "702/702 [==============================] - 305s 435ms/step - loss: 0.4459 - accuracy: 0.7893 - val_loss: 0.4141 - val_accuracy: 0.8168\n",
      "Epoch 1/2\n",
      "702/702 [==============================] - 317s 448ms/step - loss: 0.4527 - accuracy: 0.7834 - val_loss: 0.4112 - val_accuracy: 0.8220\n",
      "Epoch 2/2\n",
      "702/702 [==============================] - 324s 462ms/step - loss: 0.4449 - accuracy: 0.7881 - val_loss: 0.3903 - val_accuracy: 0.8240\n",
      "Epoch 1/2\n",
      "702/702 [==============================] - 314s 447ms/step - loss: 0.4450 - accuracy: 0.7908 - val_loss: 0.3882 - val_accuracy: 0.8281\n",
      "Epoch 2/2\n",
      "702/702 [==============================] - 300s 428ms/step - loss: 0.4362 - accuracy: 0.7944 - val_loss: 0.3821 - val_accuracy: 0.8349\n",
      "Saved model to disk\n"
     ]
    }
   ],
   "source": [
    "# more training\n",
    "new_data = data_augmentation(X)\n",
    "model.fit(new_data,y,batch_size=32,epochs=2,validation_split=0.1) \n",
    "new_data = data_augmentation(X)\n",
    "model.fit(new_data,y,batch_size=32,epochs=2,validation_split=0.1) \n",
    "new_data = data_augmentation(X)\n",
    "model.fit(new_data,y,batch_size=32,epochs=2,validation_split=0.1) \n",
    "new_data = data_augmentation(X)\n",
    "model.fit(new_data,y,batch_size=32,epochs=2,validation_split=0.1) \n",
    "model.save(\"model_6.0.h5\")\n",
    "print(\"Saved model to disk\")"
   ]
  },
  {
   "cell_type": "code",
   "execution_count": 114,
   "id": "2b98b6d1",
   "metadata": {},
   "outputs": [
    {
     "name": "stdout",
     "output_type": "stream",
     "text": [
      "722/722 [==============================] - 340s 470ms/step - loss: 0.2854 - accuracy: 0.8761 - val_loss: 0.2375 - val_accuracy: 0.9113\n",
      "Saved model to disk\n"
     ]
    }
   ],
   "source": [
    "# more(last) training\n",
    "model.fit(X,y,batch_size=32,epochs=1,validation_split=0.075) \n",
    "model.save(\"model_7.0.h5\")\n",
    "print(\"Saved model to disk\")"
   ]
  }
 ],
 "metadata": {
  "kernelspec": {
   "display_name": "Python 3 (ipykernel)",
   "language": "python",
   "name": "python3"
  },
  "language_info": {
   "codemirror_mode": {
    "name": "ipython",
    "version": 3
   },
   "file_extension": ".py",
   "mimetype": "text/x-python",
   "name": "python",
   "nbconvert_exporter": "python",
   "pygments_lexer": "ipython3",
   "version": "3.9.7"
  }
 },
 "nbformat": 4,
 "nbformat_minor": 5
}
