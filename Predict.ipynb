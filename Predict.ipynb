{
 "cells": [
  {
   "cell_type": "code",
   "execution_count": 77,
   "id": "2648ce0e",
   "metadata": {},
   "outputs": [
    {
     "name": "stdout",
     "output_type": "stream",
     "text": [
      "0.019058585\n",
      "dog\n"
     ]
    }
   ],
   "source": [
    "import numpy as np\n",
    "from keras.models import Sequential, load_model\n",
    "import cv2\n",
    "\n",
    "size = 120\n",
    "img_path = '1.jpeg'\n",
    "img_array = cv2.imread(img_path,cv2.IMREAD_GRAYSCALE)\n",
    "new_array = cv2.resize(img_array, (size,size))\n",
    "new_array = new_array / 255\n",
    "\n",
    "model = load_model('model_6.0.h5')\n",
    "\n",
    "prediction = model.predict(np.array([new_array]))\n",
    "print(prediction[0][0])\n",
    "if np.round(prediction)==0:\n",
    "    print(\"dog\")\n",
    "else:\n",
    "    print(\"cat\")"
   ]
  },
  {
   "cell_type": "code",
   "execution_count": null,
   "id": "6f573a30",
   "metadata": {},
   "outputs": [],
   "source": []
  }
 ],
 "metadata": {
  "kernelspec": {
   "display_name": "Python 3 (ipykernel)",
   "language": "python",
   "name": "python3"
  },
  "language_info": {
   "codemirror_mode": {
    "name": "ipython",
    "version": 3
   },
   "file_extension": ".py",
   "mimetype": "text/x-python",
   "name": "python",
   "nbconvert_exporter": "python",
   "pygments_lexer": "ipython3",
   "version": "3.9.7"
  }
 },
 "nbformat": 4,
 "nbformat_minor": 5
}
